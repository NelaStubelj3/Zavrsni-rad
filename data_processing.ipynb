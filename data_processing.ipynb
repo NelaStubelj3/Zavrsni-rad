{
 "cells": [
  {
   "cell_type": "code",
   "execution_count": 20,
   "metadata": {},
   "outputs": [
    {
     "name": "stdout",
     "output_type": "stream",
     "text": [
      "         logtime  scenario_time         type module           address  \\\n",
      "208  6950.152472       0.248935  performance  track        joystick_x   \n",
      "209  6950.152505       0.248935  performance  track        joystick_y   \n",
      "232  6950.157947       0.262762  performance  track        joystick_x   \n",
      "233  6950.157977       0.262762  performance  track        joystick_y   \n",
      "234  6950.158032       0.262762  performance  track  cursor_in_target   \n",
      "235  6950.158074       0.262762  performance  track  center_deviation   \n",
      "517  6950.265342       0.369447  performance  track  cursor_in_target   \n",
      "518  6950.265420       0.369447  performance  track  center_deviation   \n",
      "546  6950.369927       0.473457  performance  track  cursor_in_target   \n",
      "547  6950.370027       0.473457  performance  track  center_deviation   \n",
      "\n",
      "        value  \n",
      "208         0  \n",
      "209         0  \n",
      "232      -1.0  \n",
      "233       0.0  \n",
      "234         1  \n",
      "235       0.0  \n",
      "517         1  \n",
      "518  1.947024  \n",
      "546         1  \n",
      "547  1.829713  \n"
     ]
    }
   ],
   "source": [
    "import pandas as pd\n",
    "\n",
    "sesion_path = 'OpenMATB/sessions/2024-05-09/Session 37/37_240509_130205.csv'\n",
    "\n",
    "data = pd.read_csv(sesion_path)\n",
    "\n",
    "read_data = data[data.apply(lambda row: row.astype(str).str.contains('performance|joystick_x|joystick_y|cursor_in_target|center_deviation', case=False).sum() > 1, axis=1)]\n",
    "\n",
    "print(read_data.head(10))\n",
    "\n",
    "output_file_path = sesion_path.replace('.csv', '_track_context.csv')\n",
    "read_data.to_csv(output_file_path, index=False)\n"
   ]
  },
  {
   "cell_type": "code",
   "execution_count": 22,
   "metadata": {},
   "outputs": [
    {
     "name": "stdout",
     "output_type": "stream",
     "text": [
      "         logtime  scenario_time         type  module          address value\n",
      "192  6950.143815       0.248935  performance  resman  a_response_time     0\n",
      "193  6950.143898       0.248935  performance  resman   a_in_tolerance     1\n",
      "195  6950.143977       0.248935  performance  resman  b_response_time     0\n",
      "196  6950.144041       0.248935  performance  resman   b_in_tolerance     1\n",
      "506  6950.249733       0.351756  performance  resman  a_response_time     0\n",
      "507  6950.249760       0.351756  performance  resman   a_in_tolerance     1\n",
      "509  6950.249801       0.351756  performance  resman  b_response_time     0\n",
      "510  6950.249820       0.351756  performance  resman   b_in_tolerance     1\n",
      "536  6950.351702       0.456613  performance  resman  a_response_time     0\n",
      "537  6950.351858       0.456613  performance  resman   a_in_tolerance     1\n"
     ]
    }
   ],
   "source": [
    "import pandas as pdb\n",
    "\n",
    "sesion_path = 'OpenMATB/sessions/2024-05-09/Session 37/37_240509_130205.csv'\n",
    "\n",
    "data = pd.read_csv(sesion_path)\n",
    "read_data = data[data.apply(lambda row: row.astype(str).str.contains('a_in_tolerance|b_in_tolerance|a_derivation|b_derivation|pump_1_flow|pump_2_flow|pump_3_flow|pump_4_flow|pump_5_flow|pump_6_flow|pump_7_flow|pump_8_flow|a_response_time|b_response_time', case=False).any() and not row.astype(str).str.contains('aoi').any(), axis=1)]\n",
    "\n",
    "print(read_data.head(10))\n",
    "\n",
    "output_file_path = sesion_path.replace('.csv', '_resman_context.csv')\n",
    "read_data.to_csv(output_file_path, index=False)\n"
   ]
  },
  {
   "cell_type": "code",
   "execution_count": 40,
   "metadata": {},
   "outputs": [
    {
     "name": "stdout",
     "output_type": "stream",
     "text": [
      "         logtime  scenario_time   type  module        address value\n",
      "361  6950.187005       0.290330  state  sysmon  scale1, arrow     6\n",
      "362  6950.187056       0.290330  state  sysmon  scale2, arrow     6\n",
      "363  6950.187095       0.290330  state  sysmon  scale3, arrow     4\n",
      "364  6950.187136       0.290330  state  sysmon  scale4, arrow     4\n",
      "532  6950.300610       0.403924  state  sysmon  scale1, arrow     7\n",
      "533  6950.300652       0.403924  state  sysmon  scale2, arrow     7\n",
      "534  6950.300688       0.403924  state  sysmon  scale3, arrow     3\n",
      "535  6950.300719       0.403924  state  sysmon  scale4, arrow     5\n",
      "560  6950.403473       0.506477  state  sysmon  scale1, arrow     6\n",
      "561  6950.403530       0.506477  state  sysmon  scale2, arrow     6\n"
     ]
    }
   ],
   "source": [
    "import pandas as pdb\n",
    "\n",
    "sesion_path = 'OpenMATB/sessions/2024-05-09/Session 37/37_240509_130205.csv'\n",
    "\n",
    "data = pd.read_csv(sesion_path)\n",
    "read_data = data[data.apply(lambda row: row.astype(str).str.contains('scale1, arrow|scale2, arrow|scale3, arrow|scale4, arrow', case=False).any() or \n",
    "                                         (row.astype(str).str.contains(\"performance\").any() and \n",
    "                                          row.astype(str).str.contains(\"name|signal_detection|response_time\").any() and not row.astype(str).str.contains('resman|track|communications').any()), axis=1)]\n",
    "\n",
    "print(read_data.head(10))\n",
    "\n",
    "output_file_path = sesion_path.replace('.csv', '_sysmon_context.csv')\n",
    "read_data.to_csv(output_file_path, index=False)\n",
    "\n"
   ]
  },
  {
   "cell_type": "markdown",
   "metadata": {},
   "source": []
  }
 ],
 "metadata": {
  "kernelspec": {
   "display_name": "Python 3",
   "language": "python",
   "name": "python3"
  },
  "language_info": {
   "codemirror_mode": {
    "name": "ipython",
    "version": 3
   },
   "file_extension": ".py",
   "mimetype": "text/x-python",
   "name": "python",
   "nbconvert_exporter": "python",
   "pygments_lexer": "ipython3",
   "version": "3.8.10"
  }
 },
 "nbformat": 4,
 "nbformat_minor": 2
}
